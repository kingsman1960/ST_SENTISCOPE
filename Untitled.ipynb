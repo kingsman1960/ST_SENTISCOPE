{
 "cells": [
  {
   "cell_type": "code",
   "execution_count": 8,
   "id": "cc835116-c3aa-4052-a4c2-da941149c144",
   "metadata": {},
   "outputs": [
    {
     "name": "stdout",
     "output_type": "stream",
     "text": [
      "Input text: The stock climbed on news that it would increase its production of 787 aircraft.\n",
      "Predicted class: 2\n",
      "Predicted label: Positive\n"
     ]
    }
   ],
   "source": [
    "from transformers import AutoTokenizer, AutoModelForSequenceClassification\n",
    "import torch\n",
    "\n",
    "# Load the tokenizer and model\n",
    "tokenizer = AutoTokenizer.from_pretrained(\"nickmuchi/sec-bert-finetuned-finance-classification\")\n",
    "model = AutoModelForSequenceClassification.from_pretrained(\"nickmuchi/sec-bert-finetuned-finance-classification\")\n",
    "\n",
    "# Prepare a sample input text\n",
    "text = \"The stock climbed on news that it would increase its production of 787 aircraft.\"\n",
    "\n",
    "# Tokenize the input text\n",
    "inputs = tokenizer(text, return_tensors=\"pt\", padding=True, truncation=True, max_length=512)\n",
    "\n",
    "# Make a prediction\n",
    "with torch.no_grad():\n",
    "    outputs = model(**inputs)\n",
    "\n",
    "# Get the predicted class\n",
    "predicted_class = torch.argmax(outputs.logits, dim=1).item()\n",
    "\n",
    "# Print the results\n",
    "print(f\"Input text: {text}\")\n",
    "print(f\"Predicted class: {predicted_class}\")\n",
    "\n",
    "# Optional: If you have a list of class labels, you can map the predicted class to its label\n",
    "class_labels = [\"Negative\", \"Neutral\", \"Positive\"]  # Replace with actual class labels\n",
    "predicted_label = class_labels[predicted_class]\n",
    "print(f\"Predicted label: {predicted_label}\")"
   ]
  },
  {
   "cell_type": "code",
   "execution_count": null,
   "id": "2ebc5de1-e8da-48fd-aabf-c936eb3fb994",
   "metadata": {},
   "outputs": [],
   "source": []
  }
 ],
 "metadata": {
  "kernelspec": {
   "display_name": "SENTISCOPE",
   "language": "python",
   "name": "sentiscope"
  },
  "language_info": {
   "codemirror_mode": {
    "name": "ipython",
    "version": 3
   },
   "file_extension": ".py",
   "mimetype": "text/x-python",
   "name": "python",
   "nbconvert_exporter": "python",
   "pygments_lexer": "ipython3",
   "version": "3.12.5"
  }
 },
 "nbformat": 4,
 "nbformat_minor": 5
}
